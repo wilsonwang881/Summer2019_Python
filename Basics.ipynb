{
 "cells": [
  {
   "cell_type": "markdown",
   "source": [
    "## exec\n",
    "\n",
    "Scope can be considered as a place to hold the variables, similar to an invisible dictionary.\n",
    "\n",
    "By placing the code string in a dictionary, the potentially hazardous code does not do any damage to the original code.\n"
   ],
   "metadata": {
    "collapsed": false,
    "pycharm": {
     "name": "#%% md\n"
    }
   }
  },
  {
   "cell_type": "code",
   "execution_count": 15,
   "metadata": {
    "collapsed": true,
    "pycharm": {
     "name": "#%%\n",
     "is_executing": false
    }
   },
   "outputs": [
    {
     "name": "stdout",
     "text": [
      "2.0\n"
     ],
     "output_type": "stream"
    },
    {
     "data": {
      "text/plain": "1"
     },
     "metadata": {},
     "output_type": "execute_result",
     "execution_count": 15
    }
   ],
   "source": [
    "from math import sqrt\n",
    "\n",
    "scope = {}\n",
    "\n",
    "exec(\"sqrt = 1\", scope)\n",
    "\n",
    "print(sqrt(4))\n",
    "\n",
    "scope[\"sqrt\"]\n",
    "\n"
   ]
  },
  {
   "cell_type": "markdown",
   "source": [
    "## eval\n",
    "\n",
    "eval evaluates the expression and returns the result.\n",
    "\n",
    "By comparison, exec does not return any objects, because itself is a sentence.\n",
    "\n",
    "```eval(input(...))``` is equivalent to ```input(...)```.\n"
   ],
   "metadata": {
    "collapsed": false
   }
  },
  {
   "cell_type": "code",
   "execution_count": 16,
   "outputs": [
    {
     "data": {
      "text/plain": "1"
     },
     "metadata": {},
     "output_type": "execute_result",
     "execution_count": 16
    }
   ],
   "source": [
    "eval(input(\"Enter an arithmetic expression: \"))\n"
   ],
   "metadata": {
    "collapsed": false,
    "pycharm": {
     "name": "#%%\n",
     "is_executing": false
    }
   }
  }
 ],
 "metadata": {
  "language_info": {
   "codemirror_mode": {
    "name": "ipython",
    "version": 2
   },
   "file_extension": ".py",
   "mimetype": "text/x-python",
   "name": "python",
   "nbconvert_exporter": "python",
   "pygments_lexer": "ipython2",
   "version": "2.7.6"
  },
  "kernelspec": {
   "name": "python3",
   "language": "python",
   "display_name": "Python 3"
  },
  "pycharm": {
   "stem_cell": {
    "cell_type": "raw",
    "source": [],
    "metadata": {
     "collapsed": false
    }
   }
  }
 },
 "nbformat": 4,
 "nbformat_minor": 0
}