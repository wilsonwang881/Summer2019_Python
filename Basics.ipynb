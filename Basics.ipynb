{
 "cells": [
  {
   "cell_type": "markdown",
   "source": [
    "## exec\n",
    "\n",
    "Scope can be considered as a place to hold the variables, similar to an invisible dictionary.\n",
    "\n",
    "By placing the code string in a dictionary, the potentially hazardous code does not do any damage to the original code.\n"
   ],
   "metadata": {
    "collapsed": false,
    "pycharm": {
     "name": "#%% md\n"
    }
   }
  },
  {
   "cell_type": "code",
   "execution_count": 8,
   "metadata": {
    "collapsed": true,
    "pycharm": {
     "name": "#%%\n",
     "is_executing": false
    }
   },
   "outputs": [
    {
     "name": "stdout",
     "text": [
      "2.0\n"
     ],
     "output_type": "stream"
    },
    {
     "data": {
      "text/plain": "1"
     },
     "metadata": {},
     "output_type": "execute_result",
     "execution_count": 8
    }
   ],
   "source": [
    "from math import sqrt\n",
    "\n",
    "scope = {}\n",
    "\n",
    "exec(\"sqrt = 1\", scope)\n",
    "\n",
    "print(sqrt(4))\n",
    "\n",
    "scope[\"sqrt\"]"
   ]
  },
  {
   "cell_type": "markdown",
   "source": [
    "## eval\n",
    "\n",
    "eval evaluates the expression and returns the result.\n",
    "\n",
    "By comparison, exec does not return any objects, because itself is a sentence.\n",
    "\n",
    "```eval(input(...))``` is equivalent to ```input(...)```.\n"
   ],
   "metadata": {
    "collapsed": false
   }
  },
  {
   "cell_type": "code",
   "execution_count": 16,
   "outputs": [
    {
     "data": {
      "text/plain": "1"
     },
     "metadata": {},
     "output_type": "execute_result",
     "execution_count": 16
    }
   ],
   "source": [
    "eval(input(\"Enter an arithmetic expression: \"))"
   ],
   "metadata": {
    "collapsed": false,
    "pycharm": {
     "name": "#%%\n",
     "is_executing": false
    }
   }
  },
  {
   "cell_type": "markdown",
   "source": [
    "## Add documentation to the code\n",
    "\n",
    "Use the property ```__doc__``` to access the documentation of the function.\n",
    "\n",
    "Or use the ```help()``` to access the documentation.\n"
   ],
   "metadata": {
    "collapsed": false
   }
  },
  {
   "cell_type": "code",
   "execution_count": 1,
   "outputs": [
    {
     "name": "stdout",
     "text": [
      "25\nHelp on function square in module __main__:\n\nsquare(x)\n    Calculate the square of the number x\n\n"
     ],
     "output_type": "stream"
    }
   ],
   "source": [
    "def square(x):\n",
    "    \"Calculate the square of the number x\"\n",
    "    return x*x\n",
    "\n",
    "print(square(5))\n",
    "square.__doc__\n",
    "help(square)"
   ],
   "metadata": {
    "collapsed": false,
    "pycharm": {
     "name": "#%%\n",
     "is_executing": false
    }
   }
  },
  {
   "cell_type": "markdown",
   "source": [],
   "metadata": {
    "collapsed": false,
    "pycharm": {
     "name": "#%% md\n"
    }
   }
  },
  {
   "cell_type": "markdown",
   "source": [
    "## Reverse the process of collecting parameters\n",
    "\n",
    "When collecting parameters, use * and **.\n",
    "\n",
    "The same applies to the reverse of collecting parameters.\n"
   ],
   "metadata": {
    "collapsed": false
   }
  },
  {
   "cell_type": "code",
   "execution_count": 2,
   "outputs": [
    {
     "data": {
      "text/plain": "3"
     },
     "metadata": {},
     "output_type": "execute_result",
     "execution_count": 2
    }
   ],
   "source": [
    "def add(x, y):\n",
    "    return x + y\n",
    "\n",
    "params = (1, 2)\n",
    "add(*params)"
   ],
   "metadata": {
    "collapsed": false,
    "pycharm": {
     "name": "#%%\n",
     "is_executing": false
    }
   }
  },
  {
   "cell_type": "markdown",
   "source": [
    "## Use one code block to capture multiple exceptions\n",
    "\n",
    "List the exception types in the form of tuples.\n",
    "\n",
    "Sometimes at the time of writing the code, it is not possible to come up with a complete list of the possible exceptions.\n",
    "\n",
    "Use ```except``` instead to include all the types of exceptions.\n",
    "\n"
   ],
   "metadata": {
    "collapsed": false
   }
  },
  {
   "cell_type": "code",
   "execution_count": 3,
   "outputs": [
    {
     "name": "stdout",
     "text": [
      "Your numbers have errors...\n"
     ],
     "output_type": "stream"
    }
   ],
   "source": [
    "try:\n",
    "    x = input(\"Enter the first number: \")\n",
    "    y = input(\"Enter the second number: \")\n",
    "    \n",
    "    print(x/y)\n",
    "except (ZeroDivisionError, TypeError, NameError):\n",
    "    print(\"Your numbers have errors...\")"
   ],
   "metadata": {
    "collapsed": false,
    "pycharm": {
     "name": "#%%\n",
     "is_executing": false
    }
   }
  },
  {
   "cell_type": "markdown",
   "source": [
    "## Class\n",
    "\n",
    "Use the keyword ```super``` to inherit a method from a super class.\n",
    "\n",
    "The use of a global variable within the scope of the class is possible.\n"
   ],
   "metadata": {
    "collapsed": false
   }
  },
  {
   "cell_type": "code",
   "execution_count": 1,
   "outputs": [
    {
     "name": "stdout",
     "text": [
      "Squawk\nAaaah...\nNo, thanks!\n"
     ],
     "output_type": "stream"
    }
   ],
   "source": [
    "__metaclass__ = type\n",
    "class Bird:\n",
    "    def __init__(self):\n",
    "        self.hungry = True\n",
    "    def eat(self):\n",
    "        if self.hungry:\n",
    "            print(\"Aaaah...\")\n",
    "            self.hungry = False\n",
    "        else:\n",
    "            print(\"No, thanks!\")\n",
    "            \n",
    "class SongBird(Bird):\n",
    "    def __init__(self):\n",
    "        super(SongBird, self).__init__()\n",
    "        self.sound = \"Squawk\"\n",
    "    def sing(self):\n",
    "        print(self.sound)\n",
    "        \n",
    "sb = SongBird()\n",
    "sb.sing()\n",
    "sb.eat()\n",
    "sb.eat()"
   ],
   "metadata": {
    "collapsed": false,
    "pycharm": {
     "name": "#%%\n",
     "is_executing": false
    }
   }
  },
  {
   "cell_type": "markdown",
   "source": [
    "## Static method and class method\n",
    "\n",
    "Use ```@``` as the decorator keyword to wrap around those methods.\n",
    "\n",
    "Static methods have no ```self``` keyword and can be used by the class directly.\n",
    "\n",
    "Class methods have the ```cls``` keyword and can be used by the object of the class directly.\n",
    "\n",
    "```cls``` is very similar to ```self```.\n"
   ],
   "metadata": {
    "collapsed": false
   }
  },
  {
   "cell_type": "code",
   "execution_count": 1,
   "outputs": [
    {
     "name": "stdout",
     "text": [
      "This is a static method\nThis is a class method of <class '__main__.MyClass'>\n"
     ],
     "output_type": "stream"
    }
   ],
   "source": [
    "__metaclass__ = type\n",
    "\n",
    "class MyClass:\n",
    "    \n",
    "    @staticmethod\n",
    "    def smeth():\n",
    "        print(\"This is a static method\")\n",
    "        \n",
    "    @classmethod\n",
    "    def cmeth(cls):\n",
    "        print(\"This is a class method of\", cls)\n",
    "        \n",
    "MyClass.smeth()\n",
    "MyClass.cmeth()\n"
   ],
   "metadata": {
    "collapsed": false,
    "pycharm": {
     "name": "#%%\n",
     "is_executing": false
    }
   }
  }
 ],
 "metadata": {
  "language_info": {
   "codemirror_mode": {
    "name": "ipython",
    "version": 2
   },
   "file_extension": ".py",
   "mimetype": "text/x-python",
   "name": "python",
   "nbconvert_exporter": "python",
   "pygments_lexer": "ipython2",
   "version": "2.7.6"
  },
  "kernelspec": {
   "name": "python3",
   "language": "python",
   "display_name": "Python 3"
  },
  "pycharm": {
   "stem_cell": {
    "cell_type": "raw",
    "source": [],
    "metadata": {
     "collapsed": false
    }
   }
  }
 },
 "nbformat": 4,
 "nbformat_minor": 0
}